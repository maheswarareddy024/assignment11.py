{
 "cells": [
  {
   "cell_type": "code",
   "execution_count": null,
   "metadata": {},
   "outputs": [],
   "source": [
    "def file_read(fname):\n",
    "    from itertools import islice\n",
    "    with open(fname,\"w\") as myfile:\n",
    "        myfile.write(\"python exercises\\n\")\n",
    "        myfile.write(\"java exercises\")\n",
    "    txt=open(fname)\n",
    "    print(txt.read())\n",
    "file_read('abc.txt')"
   ]
  }
 ],
 "metadata": {
  "kernelspec": {
   "display_name": "Python 3",
   "language": "python",
   "name": "python3"
  },
  "language_info": {
   "codemirror_mode": {
    "name": "ipython",
    "version": 3
   },
   "file_extension": ".py",
   "mimetype": "text/x-python",
   "name": "python",
   "nbconvert_exporter": "python",
   "pygments_lexer": "ipython3",
   "version": "3.7.3"
  }
 },
 "nbformat": 4,
 "nbformat_minor": 2
}
